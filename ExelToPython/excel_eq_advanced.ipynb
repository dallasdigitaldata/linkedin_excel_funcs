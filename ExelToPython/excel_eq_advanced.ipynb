{
 "cells": [
  {
   "cell_type": "markdown",
   "id": "a1e2f4b7",
   "metadata": {},
   "source": [
    "# From Excel to Pandas: Advanced Data Analysis Techniques"
   ]
  },
  {
   "cell_type": "markdown",
   "id": "b6a7e5a8",
   "metadata": {},
   "source": [
    "Excel is a powerful tool for data analysis, but when it comes to handling large datasets and performing complex operations, Python's pandas library offers superior capabilities. In this notebook, we'll explore advanced Excel features and demonstrate their pandas equivalents, focusing on pivot tables, charts, groupbys, and joins."
   ]
  },
  {
   "cell_type": "markdown",
   "id": "1e29c4e1",
   "metadata": {},
   "source": [
    "## Generating a Random Sales Dataset\n",
    "\n",
    "We'll create a random dataset to simulate sales data, which we'll use to demonstrate the advanced features."
   ]
  },
  {
   "cell_type": "code",
   "execution_count": 1,
   "id": "9b874fa9",
   "metadata": {},
   "outputs": [],
   "source": [
    "\n",
    "import pandas as pd\n",
    "import numpy as np\n",
    "from faker import Faker\n",
    "import random\n",
    "import matplotlib.pyplot as plt\n",
    "\n",
    "\n",
    "pd.set_option(\"display.notebook_repr_html\", False)\n"
   ]
  },
  {
   "cell_type": "code",
   "execution_count": 2,
   "id": "fbce0f1f",
   "metadata": {},
   "outputs": [
    {
     "data": {
      "text/plain": [
       "   Order ID Order Date       Customer Name    Segment         Category  \\\n",
       "0         1 2024-09-06      Jeffrey Torres   Consumer       Technology   \n",
       "1         2 2024-03-12  Mrs. Jennifer King  Corporate        Furniture   \n",
       "2         3 2024-08-04      Kimberly Payne   Consumer  Office Supplies   \n",
       "3         4 2024-09-24         Paula Brady  Corporate        Furniture   \n",
       "4         5 2024-03-26      Jessica Archer  Corporate  Office Supplies   \n",
       "\n",
       "  Sub-Category   Sales  Quantity  Discount  Profit  \n",
       "0       Tables  130.30         9      0.18   84.39  \n",
       "1     Supplies  196.84         4      0.19  100.31  \n",
       "2    Fasteners  118.06         2      0.12  102.62  \n",
       "3    Fasteners  355.70         7      0.07  -58.91  \n",
       "4          Art  898.85         6      0.05  169.42  "
      ]
     },
     "metadata": {},
     "output_type": "display_data"
    }
   ],
   "source": [
    "# Initialize Faker\n",
    "fake = Faker()\n",
    "\n",
    "# Set the random seed for reproducibility\n",
    "Faker.seed(0)\n",
    "np.random.seed(0)\n",
    "random.seed(0)\n",
    "\n",
    "# Generate random data\n",
    "num_records = 100000\n",
    "data = {\n",
    "    \"Order ID\": np.arange(1, num_records + 1),\n",
    "    \"Order Date\": [fake.date_between(start_date='-1y', end_date='today') for _ in range(num_records)],\n",
    "    \"Customer Name\": [fake.name() for _ in range(num_records)],\n",
    "    \"Segment\": np.random.choice([\"Consumer\", \"Corporate\", \"Home Office\"], num_records),\n",
    "    \"Category\": np.random.choice([\"Furniture\", \"Office Supplies\", \"Technology\"], num_records),\n",
    "    \"Sub-Category\": np.random.choice([\"Bookcases\", \"Chairs\", \"Tables\", \"Accessories\", \"Appliances\", \"Art\", \"Binders\", \"Envelopes\", \"Fasteners\", \"Labels\", \"Paper\", \"Storage\", \"Supplies\", \"Phones\", \"Copiers\", \"Machines\"], num_records),\n",
    "    \"Sales\": np.round(np.random.uniform(10.0, 1000.0, num_records), 2),\n",
    "    \"Quantity\": np.random.randint(1, 10, num_records),\n",
    "    \"Discount\": np.round(np.random.uniform(0.0, 0.3, num_records), 2),\n",
    "    \"Profit\": np.round(np.random.uniform(-200.0, 200.0, num_records), 2)\n",
    "}\n",
    "\n",
    "# Create a DataFrame\n",
    "df = pd.DataFrame(data)\n",
    "\n",
    "# Convert 'Order Date' to datetime\n",
    "df['Order Date'] = pd.to_datetime(df['Order Date'])\n",
    "\n",
    "# Preview the DataFrame\n",
    "display(df.head())"
   ]
  },
  {
   "cell_type": "markdown",
   "id": "9fcd3d71",
   "metadata": {},
   "source": [
    "## 1. Pivot Tables\n",
    "\n",
    "### **Excel Equivalent**\n",
    "In Excel, you can create a pivot table to summarize sales by category and segment.\n",
    "\n",
    "### **Pandas Equivalent**"
   ]
  },
  {
   "cell_type": "code",
   "execution_count": 3,
   "id": "6f04a1f2",
   "metadata": {},
   "outputs": [
    {
     "name": "stdout",
     "output_type": "stream",
     "text": [
      "Segment             Consumer    Corporate  Home Office        Total\n",
      "Category                                                           \n",
      "Furniture         5594767.38   5537224.51   5606353.76  16738345.65\n",
      "Office Supplies   5574308.71   5628310.98   5602843.59  16805463.28\n",
      "Technology        5625510.40   5628158.84   5573417.03  16827086.27\n",
      "Total            16794586.49  16793694.33  16782614.38  50370895.20\n"
     ]
    }
   ],
   "source": [
    "# Updated code without the FutureWarning\n",
    "pivot_table = pd.pivot_table(\n",
    "    df,\n",
    "    values='Sales',\n",
    "    index=['Category'],\n",
    "    columns=['Segment'],\n",
    "    aggfunc='sum',\n",
    "    margins=True,\n",
    "    margins_name='Total'\n",
    ")\n",
    "\n",
    "print(pivot_table)"
   ]
  },
  {
   "cell_type": "markdown",
   "id": "fd35af2c",
   "metadata": {},
   "source": [
    "## 2. GroupBy Operations\n",
    "\n",
    "### **Excel Equivalent**\n",
    "Using SUMIF or array formulas to calculate total profit by category.\n",
    "\n",
    "### **Pandas Equivalent**"
   ]
  },
  {
   "cell_type": "code",
   "execution_count": 4,
   "id": "dc5e2b1e",
   "metadata": {},
   "outputs": [
    {
     "data": {
      "text/plain": [
       "          Category    Profit\n",
       "0        Furniture  27327.19\n",
       "1  Office Supplies -13836.24\n",
       "2       Technology  14366.78"
      ]
     },
     "execution_count": 4,
     "metadata": {},
     "output_type": "execute_result"
    }
   ],
   "source": [
    "# Group by 'Category' and calculate total profit\n",
    "category_profit = df.groupby('Category')['Profit'].sum().reset_index()\n",
    "category_profit"
   ]
  },
  {
   "cell_type": "markdown",
   "id": "f3c1bafa",
   "metadata": {},
   "source": [
    "## 3. Merging and Joining Data\n",
    "\n",
    "### **Excel Equivalent**\n",
    "Using VLOOKUP or INDEX-MATCH to combine data from different sheets.\n",
    "\n",
    "### **Pandas Equivalent**\n",
    "Let's assume we have another DataFrame with customer information."
   ]
  },
  {
   "cell_type": "code",
   "execution_count": 5,
   "id": "72a567e0",
   "metadata": {},
   "outputs": [
    {
     "data": {
      "text/plain": [
       "        Customer Name Region Customer Segment\n",
       "0      Jeffrey Torres  South       High Value\n",
       "1  Mrs. Jennifer King   West        Low Value\n",
       "2      Kimberly Payne   West       High Value\n",
       "3         Paula Brady   East        Low Value\n",
       "4      Jessica Archer   East        Low Value"
      ]
     },
     "execution_count": 5,
     "metadata": {},
     "output_type": "execute_result"
    }
   ],
   "source": [
    "# Create a customer DataFrame\n",
    "customer_data = {\n",
    "    \"Customer Name\": df['Customer Name'].unique(),\n",
    "    \"Region\": np.random.choice([\"East\", \"West\", \"Central\", \"South\"], len(df['Customer Name'].unique())),\n",
    "    \"Customer Segment\": np.random.choice([\"High Value\", \"Medium Value\", \"Low Value\"], len(df['Customer Name'].unique()))\n",
    "}\n",
    "customers = pd.DataFrame(customer_data)\n",
    "customers.head()"
   ]
  },
  {
   "cell_type": "code",
   "execution_count": 6,
   "id": "2f4e1b1e",
   "metadata": {},
   "outputs": [
    {
     "data": {
      "text/plain": [
       "   Order ID Order Date       Customer Name    Segment         Category  \\\n",
       "0         1 2024-09-06      Jeffrey Torres   Consumer       Technology   \n",
       "1         2 2024-03-12  Mrs. Jennifer King  Corporate        Furniture   \n",
       "2         3 2024-08-04      Kimberly Payne   Consumer  Office Supplies   \n",
       "3         4 2024-09-24         Paula Brady  Corporate        Furniture   \n",
       "4         5 2024-03-26      Jessica Archer  Corporate  Office Supplies   \n",
       "\n",
       "  Sub-Category   Sales  Quantity  Discount  Profit Region Customer Segment  \n",
       "0       Tables  130.30         9      0.18   84.39  South       High Value  \n",
       "1     Supplies  196.84         4      0.19  100.31   West        Low Value  \n",
       "2    Fasteners  118.06         2      0.12  102.62   West       High Value  \n",
       "3    Fasteners  355.70         7      0.07  -58.91   East        Low Value  \n",
       "4          Art  898.85         6      0.05  169.42   East        Low Value  "
      ]
     },
     "execution_count": 6,
     "metadata": {},
     "output_type": "execute_result"
    }
   ],
   "source": [
    "# Merge the sales data with customer data\n",
    "merged_df = pd.merge(df, customers, on='Customer Name', how='left')\n",
    "merged_df.head()"
   ]
  },
  {
   "cell_type": "markdown",
   "id": "e8d1c0a1",
   "metadata": {},
   "source": [
    "## 4. Data Visualization (Charts)\n",
    "\n",
    "### **Excel Equivalent**\n",
    "Creating charts to visualize sales trends over time.\n",
    "\n",
    "### **Pandas/Matplotlib Equivalent**"
   ]
  },
  {
   "cell_type": "code",
   "execution_count": 7,
   "id": "dbf5016f",
   "metadata": {},
   "outputs": [
    {
     "name": "stderr",
     "output_type": "stream",
     "text": [
      "C:\\Users\\AlexanderMolinar\\AppData\\Local\\Temp\\ipykernel_41872\\3861109624.py:2: FutureWarning: 'M' is deprecated and will be removed in a future version, please use 'ME' instead.\n",
      "  monthly_sales = df.set_index('Order Date').resample('M')['Sales'].sum()\n"
     ]
    },
    {
     "data": {
      "image/png": "[encoded data removed]",
      "text/plain": [
       "<Figure size 1200x600 with 1 Axes>"
      ]
     },
     "metadata": {},
     "output_type": "display_data"
    }
   ],
   "source": [
    "# Calculate monthly sales\n",
    "monthly_sales = df.set_index('Order Date').resample('M')['Sales'].sum()\n",
    "\n",
    "# Plot the monthly sales\n",
    "plt.figure(figsize=(12,6))\n",
    "plt.plot(monthly_sales.index, monthly_sales.values, marker='o')\n",
    "plt.title('Monthly Sales Over the Past Year')\n",
    "plt.xlabel('Month')\n",
    "plt.ylabel('Sales')\n",
    "plt.grid(True)\n",
    "plt.show()"
   ]
  },
  {
   "cell_type": "markdown",
   "id": "7e0f6234",
   "metadata": {},
   "source": [
    "## 5. Advanced GroupBy with Multiple Aggregations\n",
    "\n",
    "### **Excel Equivalent**\n",
    "Using Pivot Tables with multiple value fields and custom calculations.\n",
    "\n",
    "### **Pandas Equivalent**"
   ]
  },
  {
   "cell_type": "code",
   "execution_count": 8,
   "id": "1e624f6e",
   "metadata": {},
   "outputs": [
    {
     "data": {
      "text/plain": [
       "    Category Sub-Category       Sales   Profit\n",
       "0  Furniture  Accessories  1058604.06  4045.37\n",
       "1  Furniture   Appliances  1054785.39  4191.92\n",
       "2  Furniture          Art  1034452.53 -8202.14\n",
       "3  Furniture      Binders  1037405.95  3796.30\n",
       "4  Furniture    Bookcases  1047625.21 -1685.37"
      ]
     },
     "execution_count": 8,
     "metadata": {},
     "output_type": "execute_result"
    }
   ],
   "source": [
    "# Group by 'Category' and 'Sub-Category' and calculate total Sales and Profit\n",
    "grouped = df.groupby(['Category', 'Sub-Category']).agg({'Sales': 'sum', 'Profit': 'sum'}).reset_index()\n",
    "grouped.head()"
   ]
  },
  {
   "cell_type": "markdown",
   "id": "c3b6a1b6",
   "metadata": {},
   "source": [
    "## 6. Applying Custom Functions with GroupBy\n",
    "\n",
    "### **Excel Equivalent**\n",
    "Using array formulas or VBA scripts to apply custom calculations.\n",
    "\n",
    "### **Pandas Equivalent**"
   ]
  },
  {
   "cell_type": "code",
   "execution_count": 9,
   "id": "4d0c9a5a",
   "metadata": {},
   "outputs": [
    {
     "name": "stderr",
     "output_type": "stream",
     "text": [
      "C:\\Users\\AlexanderMolinar\\AppData\\Local\\Temp\\ipykernel_41872\\1944146675.py:6: DeprecationWarning: DataFrameGroupBy.apply operated on the grouping columns. This behavior is deprecated, and in a future version of pandas the grouping columns will be excluded from the operation. Either pass `include_groups=False` to exclude the groupings or explicitly select the grouping columns after groupby to silence this warning.\n",
      "  margin = df.groupby('Category').apply(profit_margin).reset_index(name='Profit Margin (%)')\n"
     ]
    },
    {
     "data": {
      "text/plain": [
       "          Category  Profit Margin (%)\n",
       "0        Furniture           0.163261\n",
       "1  Office Supplies          -0.082332\n",
       "2       Technology           0.085379"
      ]
     },
     "execution_count": 9,
     "metadata": {},
     "output_type": "execute_result"
    }
   ],
   "source": [
    "# Define a custom function to calculate profit margin\n",
    "def profit_margin(x):\n",
    "    return (x['Profit'].sum() / x['Sales'].sum()) * 100\n",
    "\n",
    "# Apply the custom function\n",
    "margin = df.groupby('Category').apply(profit_margin).reset_index(name='Profit Margin (%)')\n",
    "margin"
   ]
  },
  {
   "cell_type": "markdown",
   "id": "9bde5e3c",
   "metadata": {},
   "source": [
    "## 7. Filtering Data\n",
    "\n",
    "### **Excel Equivalent**\n",
    "Using AutoFilter or advanced filtering options.\n",
    "\n",
    "### **Pandas Equivalent**"
   ]
  },
  {
   "cell_type": "code",
   "execution_count": 10,
   "id": "ce2a7eb2",
   "metadata": {},
   "outputs": [
    {
     "data": {
      "text/plain": [
       "    Order ID Order Date       Customer Name      Segment         Category  \\\n",
       "6          7 2024-01-23  Margaret Valentine     Consumer  Office Supplies   \n",
       "11        12 2024-08-14      Amy Cunningham  Home Office       Technology   \n",
       "12        13 2024-09-01       Donald Miller    Corporate       Technology   \n",
       "16        17 2024-05-28         John Zamora    Corporate  Office Supplies   \n",
       "21        22 2023-12-08     Jared Alexander    Corporate        Furniture   \n",
       "\n",
       "   Sub-Category   Sales  Quantity  Discount  Profit  \n",
       "6        Labels  743.11         8      0.22 -137.31  \n",
       "11   Appliances  574.29         6      0.26  -34.20  \n",
       "12    Envelopes  796.95         1      0.22 -115.04  \n",
       "16      Binders  848.17         8      0.16 -129.14  \n",
       "21     Supplies  912.02         4      0.16  -23.38  "
      ]
     },
     "execution_count": 10,
     "metadata": {},
     "output_type": "execute_result"
    }
   ],
   "source": [
    "# Filter orders with Sales > $500 and Profit < 0\n",
    "filtered_df = df[(df['Sales'] > 500) & (df['Profit'] < 0)]\n",
    "filtered_df.head()"
   ]
  },
  {
   "cell_type": "markdown",
   "id": "e33f07a9",
   "metadata": {},
   "source": [
    "## 8. Handling Missing Data\n",
    "\n",
    "### **Excel Equivalent**\n",
    "Using ISBLANK or filtering out empty cells.\n",
    "\n",
    "### **Pandas Equivalent**\n",
    "Let's introduce some missing data into our DataFrame."
   ]
  },
  {
   "cell_type": "code",
   "execution_count": 11,
   "id": "b2d5f9de",
   "metadata": {},
   "outputs": [
    {
     "data": {
      "text/plain": [
       "5000"
      ]
     },
     "execution_count": 11,
     "metadata": {},
     "output_type": "execute_result"
    }
   ],
   "source": [
    "# Introduce missing values\n",
    "df_missing = df.copy()\n",
    "df_missing.loc[df_missing.sample(frac=0.05).index, 'Profit'] = np.nan\n",
    "\n",
    "# Check for missing values\n",
    "df_missing['Profit'].isnull().sum()"
   ]
  },
  {
   "cell_type": "code",
   "execution_count": 12,
   "id": "34c2f617",
   "metadata": {},
   "outputs": [
    {
     "name": "stderr",
     "output_type": "stream",
     "text": [
      "C:\\Users\\AlexanderMolinar\\AppData\\Local\\Temp\\ipykernel_41872\\3140221436.py:2: FutureWarning: A value is trying to be set on a copy of a DataFrame or Series through chained assignment using an inplace method.\n",
      "The behavior will change in pandas 3.0. This inplace method will never work because the intermediate object on which we are setting values always behaves as a copy.\n",
      "\n",
      "For example, when doing 'df[col].method(value, inplace=True)', try using 'df.method({col: value}, inplace=True)' or df[col] = df[col].method(value) instead, to perform the operation inplace on the original object.\n",
      "\n",
      "\n",
      "  df_missing['Profit'].fillna(0, inplace=True)\n"
     ]
    },
    {
     "data": {
      "text/plain": [
       "0"
      ]
     },
     "execution_count": 12,
     "metadata": {},
     "output_type": "execute_result"
    }
   ],
   "source": [
    "# Fill missing Profit values with 0\n",
    "df_missing['Profit'].fillna(0, inplace=True)\n",
    "\n",
    "# Verify missing values are handled\n",
    "df_missing['Profit'].isnull().sum()"
   ]
  },
  {
   "cell_type": "markdown",
   "id": "fc7c6358",
   "metadata": {},
   "source": [
    "## 9. Sorting Data\n",
    "\n",
    "### **Excel Equivalent**\n",
    "Using the Sort function to organize data.\n",
    "\n",
    "### **Pandas Equivalent**"
   ]
  },
  {
   "cell_type": "code",
   "execution_count": 13,
   "id": "f26a4870",
   "metadata": {},
   "outputs": [
    {
     "data": {
      "text/plain": [
       "       Order ID Order Date    Customer Name      Segment         Category  \\\n",
       "71151     71152 2024-10-04      Steve Wolfe     Consumer  Office Supplies   \n",
       "71815     71816 2023-12-14    Chad Williams    Corporate        Furniture   \n",
       "41690     41691 2024-06-10  Jonathan Keller  Home Office       Technology   \n",
       "66577     66578 2023-11-17    Jeffrey Lynch    Corporate  Office Supplies   \n",
       "32484     32485 2023-12-21       Lisa Jones    Corporate  Office Supplies   \n",
       "\n",
       "      Sub-Category    Sales  Quantity  Discount  Profit  \n",
       "71151       Labels  1000.00         6      0.27  -25.93  \n",
       "71815   Appliances   999.98         3      0.27  180.22  \n",
       "41690    Bookcases   999.96         2      0.21   28.51  \n",
       "66577        Paper   999.96         4      0.18    3.54  \n",
       "32484    Bookcases   999.94         9      0.05 -126.83  "
      ]
     },
     "execution_count": 13,
     "metadata": {},
     "output_type": "execute_result"
    }
   ],
   "source": [
    "# Sort data by Sales in descending order\n",
    "sorted_df = df.sort_values(by='Sales', ascending=False)\n",
    "sorted_df.head()"
   ]
  },
  {
   "cell_type": "markdown",
   "id": "e5d6f0b4",
   "metadata": {},
   "source": [
    "## 10. Conditional Formatting\n",
    "\n",
    "### **Excel Equivalent**\n",
    "Using Conditional Formatting to highlight cells based on values.\n",
    "\n",
    "### **Pandas Equivalent**"
   ]
  },
  {
   "cell_type": "code",
   "execution_count": 14,
   "id": "0c7d5f4f",
   "metadata": {},
   "outputs": [
    {
     "data": {
      "text/html": [
       "<style type=\"text/css\">\n",
       "#T_e798f_row3_col2, #T_e798f_row6_col2, #T_e798f_row7_col2 {\n",
       "  background-color: red;\n",
       "}\n",
       "</style>\n",
       "<table id=\"T_e798f\">\n",
       "  <thead>\n",
       "    <tr>\n",
       "      <th class=\"blank level0\" >&nbsp;</th>\n",
       "      <th id=\"T_e798f_level0_col0\" class=\"col_heading level0 col0\" >Order ID</th>\n",
       "      <th id=\"T_e798f_level0_col1\" class=\"col_heading level0 col1\" >Sales</th>\n",
       "      <th id=\"T_e798f_level0_col2\" class=\"col_heading level0 col2\" >Profit</th>\n",
       "    </tr>\n",
       "  </thead>\n",
       "  <tbody>\n",
       "    <tr>\n",
       "      <th id=\"T_e798f_level0_row0\" class=\"row_heading level0 row0\" >0</th>\n",
       "      <td id=\"T_e798f_row0_col0\" class=\"data row0 col0\" >1</td>\n",
       "      <td id=\"T_e798f_row0_col1\" class=\"data row0 col1\" >130.300000</td>\n",
       "      <td id=\"T_e798f_row0_col2\" class=\"data row0 col2\" >84.390000</td>\n",
       "    </tr>\n",
       "    <tr>\n",
       "      <th id=\"T_e798f_level0_row1\" class=\"row_heading level0 row1\" >1</th>\n",
       "      <td id=\"T_e798f_row1_col0\" class=\"data row1 col0\" >2</td>\n",
       "      <td id=\"T_e798f_row1_col1\" class=\"data row1 col1\" >196.840000</td>\n",
       "      <td id=\"T_e798f_row1_col2\" class=\"data row1 col2\" >100.310000</td>\n",
       "    </tr>\n",
       "    <tr>\n",
       "      <th id=\"T_e798f_level0_row2\" class=\"row_heading level0 row2\" >2</th>\n",
       "      <td id=\"T_e798f_row2_col0\" class=\"data row2 col0\" >3</td>\n",
       "      <td id=\"T_e798f_row2_col1\" class=\"data row2 col1\" >118.060000</td>\n",
       "      <td id=\"T_e798f_row2_col2\" class=\"data row2 col2\" >102.620000</td>\n",
       "    </tr>\n",
       "    <tr>\n",
       "      <th id=\"T_e798f_level0_row3\" class=\"row_heading level0 row3\" >3</th>\n",
       "      <td id=\"T_e798f_row3_col0\" class=\"data row3 col0\" >4</td>\n",
       "      <td id=\"T_e798f_row3_col1\" class=\"data row3 col1\" >355.700000</td>\n",
       "      <td id=\"T_e798f_row3_col2\" class=\"data row3 col2\" >-58.910000</td>\n",
       "    </tr>\n",
       "    <tr>\n",
       "      <th id=\"T_e798f_level0_row4\" class=\"row_heading level0 row4\" >4</th>\n",
       "      <td id=\"T_e798f_row4_col0\" class=\"data row4 col0\" >5</td>\n",
       "      <td id=\"T_e798f_row4_col1\" class=\"data row4 col1\" >898.850000</td>\n",
       "      <td id=\"T_e798f_row4_col2\" class=\"data row4 col2\" >169.420000</td>\n",
       "    </tr>\n",
       "    <tr>\n",
       "      <th id=\"T_e798f_level0_row5\" class=\"row_heading level0 row5\" >5</th>\n",
       "      <td id=\"T_e798f_row5_col0\" class=\"data row5 col0\" >6</td>\n",
       "      <td id=\"T_e798f_row5_col1\" class=\"data row5 col1\" >462.610000</td>\n",
       "      <td id=\"T_e798f_row5_col2\" class=\"data row5 col2\" >36.460000</td>\n",
       "    </tr>\n",
       "    <tr>\n",
       "      <th id=\"T_e798f_level0_row6\" class=\"row_heading level0 row6\" >6</th>\n",
       "      <td id=\"T_e798f_row6_col0\" class=\"data row6 col0\" >7</td>\n",
       "      <td id=\"T_e798f_row6_col1\" class=\"data row6 col1\" >743.110000</td>\n",
       "      <td id=\"T_e798f_row6_col2\" class=\"data row6 col2\" >-137.310000</td>\n",
       "    </tr>\n",
       "    <tr>\n",
       "      <th id=\"T_e798f_level0_row7\" class=\"row_heading level0 row7\" >7</th>\n",
       "      <td id=\"T_e798f_row7_col0\" class=\"data row7 col0\" >8</td>\n",
       "      <td id=\"T_e798f_row7_col1\" class=\"data row7 col1\" >244.930000</td>\n",
       "      <td id=\"T_e798f_row7_col2\" class=\"data row7 col2\" >-80.290000</td>\n",
       "    </tr>\n",
       "    <tr>\n",
       "      <th id=\"T_e798f_level0_row8\" class=\"row_heading level0 row8\" >8</th>\n",
       "      <td id=\"T_e798f_row8_col0\" class=\"data row8 col0\" >9</td>\n",
       "      <td id=\"T_e798f_row8_col1\" class=\"data row8 col1\" >771.680000</td>\n",
       "      <td id=\"T_e798f_row8_col2\" class=\"data row8 col2\" >30.740000</td>\n",
       "    </tr>\n",
       "    <tr>\n",
       "      <th id=\"T_e798f_level0_row9\" class=\"row_heading level0 row9\" >9</th>\n",
       "      <td id=\"T_e798f_row9_col0\" class=\"data row9 col0\" >10</td>\n",
       "      <td id=\"T_e798f_row9_col1\" class=\"data row9 col1\" >734.030000</td>\n",
       "      <td id=\"T_e798f_row9_col2\" class=\"data row9 col2\" >26.580000</td>\n",
       "    </tr>\n",
       "  </tbody>\n",
       "</table>\n"
      ],
      "text/plain": [
       "<pandas.io.formats.style.Styler at 0x26bdc55ce30>"
      ]
     },
     "execution_count": 14,
     "metadata": {},
     "output_type": "execute_result"
    }
   ],
   "source": [
    "# Define a function to highlight negative profits\n",
    "def highlight_negative(s):\n",
    "    return ['background-color: red' if v < 0 else '' for v in s]\n",
    "\n",
    "# Apply the function to the DataFrame\n",
    "styled_df = df[['Order ID', 'Sales', 'Profit']].head(10).style.apply(highlight_negative, subset=['Profit'])\n",
    "styled_df"
   ]
  },
  {
   "cell_type": "markdown",
   "id": "a25f1e69",
   "metadata": {},
   "source": [
    "## Conclusion\n",
    "\n",
    "Pandas offers a rich set of functionalities that can replicate and often enhance the capabilities of Excel's advanced features. Transitioning to pandas allows for more efficient data manipulation, especially with large datasets. By understanding these pandas equivalents, you can take your data analysis skills to the next level."
   ]
  },
  {
   "cell_type": "markdown",
   "id": "d9273e5b",
   "metadata": {},
   "source": [
    "---\n",
    "\n",
    "Feel free to use this notebook as a guide for advanced data analysis techniques in pandas. The combination of pandas and Python provides a powerful platform for handling, analyzing, and visualizing data."
   ]
  }
 ],
 "metadata": {
  "authors": [
   {
    "name": "Alexander Joel Molinar"
   }
  ],
  "kernelspec": {
   "display_name": "Python 3",
   "language": "python",
   "name": "python3"
  },
  "language_info": {
   "codemirror_mode": {
    "name": "ipython",
    "version": 3
   },
   "file_extension": ".py",
   "mimetype": "text/x-python",
   "name": "python",
   "nbconvert_exporter": "python",
   "pygments_lexer": "ipython3",
   "version": "undefined.undefined.undefined"
  },
  "title": "From Excel to Pandas: Advanced Data Analysis Techniques"
 },
 "nbformat": 4,
 "nbformat_minor": 5
}
