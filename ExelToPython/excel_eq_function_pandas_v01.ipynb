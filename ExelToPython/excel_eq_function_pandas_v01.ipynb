{
 "cells": [
  {
   "cell_type": "markdown",
   "id": "d637c2e4",
   "metadata": {},
   "source": [
    "# From Excel to Pandas: 10 Essential Functions You Must Know"
   ]
  },
  {
   "cell_type": "markdown",
   "id": "a6e2fb4b",
   "metadata": {},
   "source": [
    "Excel functions are powerful tools that many professionals use daily for data analysis. However, when dealing with larger datasets or requiring more advanced operations, transitioning to Python's pandas library can be beneficial. In this guide, we'll recreate common Excel functions using pandas with a randomly generated employee salary dataset."
   ]
  },
  {
   "cell_type": "markdown",
   "id": "cf3d3fdd",
   "metadata": {},
   "source": [
    "## Generating a Random Employee Dataset\n",
    "\n",
    "First, we'll create a random dataset to simulate employee data. We'll use the `faker` library to generate random names and other relevant information."
   ]
  },
  {
   "cell_type": "code",
   "execution_count": 1,
   "id": "c0b0c8c4",
   "metadata": {},
   "outputs": [],
   "source": [
    "# # Install faker if not already installed\n",
    "# !pip install faker\n",
    "# !pip install pandas\n",
    "# !pip install numpy\n",
    "# !pip install tabulate\n",
    "\n",
    "import pandas as pd\n",
    "import numpy as np\n",
    "from faker import Faker\n",
    "import random\n",
    "from tabulate import tabulate\n",
    "\n",
    "pd.set_option(\"display.notebook_repr_html\", False)\n",
    "\n",
    "\n"
   ]
  },
  {
   "cell_type": "code",
   "execution_count": 2,
   "id": "5c44c451",
   "metadata": {},
   "outputs": [
    {
     "data": {
      "text/plain": [
       "   Employee ID              Name Department                      Position  \\\n",
       "0         1001      Norma Fisher    Finance       Chartered loss adjuster   \n",
       "1         1002    Jorge Sullivan         HR          Brewing technologist   \n",
       "2         1003   Elizabeth Woods      Sales          Chartered accountant   \n",
       "3         1004      Susan Wagner      Sales  Engineer, civil (consulting)   \n",
       "4         1005  Peter Montgomery      Sales      Environmental consultant   \n",
       "\n",
       "   Salary Date of Hire  Performance Score  Bonus  Leave Days Taken    Status  \n",
       "0  118778   2024-07-18                2.5   9393                14    Active  \n",
       "1   76223   2016-04-29                2.7   8468                 9  Inactive  \n",
       "2  101570   2023-08-06                1.2   2805                 3  Inactive  \n",
       "3   46521   2016-01-31                2.5   2862                 7    Active  \n",
       "4   96894   2022-01-14                1.1   9742                 5    Active  "
      ]
     },
     "metadata": {},
     "output_type": "display_data"
    }
   ],
   "source": [
    "# Initialize Faker\n",
    "fake = Faker()\n",
    "\n",
    "# Set the random seed for reproducibility\n",
    "Faker.seed(0)\n",
    "np.random.seed(0)\n",
    "random.seed(0)\n",
    "\n",
    "# Generate random data\n",
    "num_employees = 100\n",
    "data = {\n",
    "    \"Employee ID\": np.arange(1001, 1001 + num_employees),\n",
    "    \"Name\": [fake.name() for _ in range(num_employees)],\n",
    "    \"Department\": np.random.choice([\"HR\", \"IT\", \"Marketing\", \"Sales\", \"Finance\"], num_employees),\n",
    "    \"Position\": [fake.job() for _ in range(num_employees)],\n",
    "    \"Salary\": np.random.randint(40000, 120000, num_employees),\n",
    "    \"Date of Hire\": [fake.date_between(start_date='-10y', end_date='today') for _ in range(num_employees)],\n",
    "    \"Performance Score\": np.round(np.random.uniform(1.0, 5.0, num_employees), 1),\n",
    "    \"Bonus\": np.random.randint(1000, 10000, num_employees),\n",
    "    \"Leave Days Taken\": np.random.randint(0, 15, num_employees),\n",
    "    \"Status\": np.random.choice([\"Active\", \"Inactive\"], num_employees, p=[0.9, 0.1])\n",
    "}\n",
    "\n",
    "# Create a DataFrame\n",
    "df = pd.DataFrame(data)\n",
    "\n",
    "# Preview the DataFrame\n",
    "display(df.head())"
   ]
  },
  {
   "cell_type": "markdown",
   "id": "d096c92d",
   "metadata": {},
   "source": [
    "## Comparing Excel Functions with Pandas Equivalents\n",
    "\n",
    "Now, let's demonstrate how common Excel functions can be replicated in pandas, including formatting the salary figures for better readability."
   ]
  },
  {
   "cell_type": "markdown",
   "id": "e0d0e8e0",
   "metadata": {},
   "source": [
    "### 1. **SUM**: Total Salary of All Employees\n",
    "\n",
    "**Excel Function**: `=SUM(E2:E101)`\n"
   ]
  },
  {
   "cell_type": "code",
   "execution_count": 3,
   "id": "e8db2075",
   "metadata": {},
   "outputs": [
    {
     "name": "stdout",
     "output_type": "stream",
     "text": [
      "Total Salary of All Employees: $8,115,608.00\n"
     ]
    }
   ],
   "source": [
    "# Pandas Equivalent with Formatting\n",
    "total_salary = df['Salary'].sum()\n",
    "print(\"Total Salary of All Employees: ${:,.2f}\".format(total_salary))"
   ]
  },
  {
   "cell_type": "markdown",
   "id": "4c8c8f0f",
   "metadata": {},
   "source": [
    "### 2. **AVERAGE**: Average Salary of Employees\n",
    "\n",
    "**Excel Function**: `=AVERAGE(E2:E101)`\n"
   ]
  },
  {
   "cell_type": "code",
   "execution_count": 4,
   "id": "4e25847a",
   "metadata": {},
   "outputs": [
    {
     "name": "stdout",
     "output_type": "stream",
     "text": [
      "Average Salary of Employees: $81,156.08\n"
     ]
    }
   ],
   "source": [
    "# Pandas Equivalent with Formatting\n",
    "average_salary = df['Salary'].mean()\n",
    "print(\"Average Salary of Employees: ${:,.2f}\".format(average_salary))"
   ]
  },
  {
   "cell_type": "markdown",
   "id": "6b7b591b",
   "metadata": {},
   "source": [
    "### 3. **MAX**: Highest Salary Among Employees\n",
    "\n",
    "**Excel Function**: `=MAX(E2:E101)`\n"
   ]
  },
  {
   "cell_type": "code",
   "execution_count": 5,
   "id": "3a81ae1c",
   "metadata": {},
   "outputs": [
    {
     "name": "stdout",
     "output_type": "stream",
     "text": [
      "Highest Salary Among Employees: $119,983.00\n"
     ]
    }
   ],
   "source": [
    "# Pandas Equivalent with Formatting\n",
    "highest_salary = df['Salary'].max()\n",
    "print(\"Highest Salary Among Employees: ${:,.2f}\".format(highest_salary))"
   ]
  },
  {
   "cell_type": "markdown",
   "id": "71ebc2d1",
   "metadata": {},
   "source": [
    "### 4. **MIN**: Lowest Salary Among Employees\n",
    "\n",
    "**Excel Function**: `=MIN(E2:E101)`\n"
   ]
  },
  {
   "cell_type": "code",
   "execution_count": 6,
   "id": "aa76dc8c",
   "metadata": {},
   "outputs": [
    {
     "name": "stdout",
     "output_type": "stream",
     "text": [
      "Lowest Salary Among Employees: $40,469.00\n"
     ]
    }
   ],
   "source": [
    "# Pandas Equivalent with Formatting\n",
    "lowest_salary = df['Salary'].min()\n",
    "print(\"Lowest Salary Among Employees: ${:,.2f}\".format(lowest_salary))"
   ]
  },
  {
   "cell_type": "markdown",
   "id": "ed2a3779",
   "metadata": {},
   "source": [
    "### 5. **COUNT**: Number of Employees with a Salary\n",
    "\n",
    "**Excel Function**: `=COUNT(E2:E101)`\n"
   ]
  },
  {
   "cell_type": "code",
   "execution_count": 7,
   "id": "d9ed0459",
   "metadata": {},
   "outputs": [
    {
     "name": "stdout",
     "output_type": "stream",
     "text": [
      "Number of Employees with a Salary: 100\n"
     ]
    }
   ],
   "source": [
    "# Pandas Equivalent with Formatting\n",
    "number_with_salary = df['Salary'].count()\n",
    "print(\"Number of Employees with a Salary: {:,}\".format(number_with_salary))"
   ]
  },
  {
   "cell_type": "markdown",
   "id": "d89d41ed",
   "metadata": {},
   "source": [
    "### 6. **COUNTA**: Total Number of Employees Listed\n",
    "\n",
    "**Excel Function**: `=COUNTA(B2:B101)`\n"
   ]
  },
  {
   "cell_type": "code",
   "execution_count": 8,
   "id": "28a8ddf2",
   "metadata": {},
   "outputs": [
    {
     "name": "stdout",
     "output_type": "stream",
     "text": [
      "Total Number of Employees Listed: 100\n"
     ]
    }
   ],
   "source": [
    "# Pandas Equivalent with Formatting\n",
    "total_employees = df['Name'].count()\n",
    "print(\"Total Number of Employees Listed: {:,}\".format(total_employees))"
   ]
  },
  {
   "cell_type": "markdown",
   "id": "9b3c4a34",
   "metadata": {},
   "source": [
    "### 7. **COUNTIF**: Employees with Bonuses Greater Than 5000\n",
    "\n",
    "**Excel Function**: `=COUNTIF(H2:H101, \">5000\")`"
   ]
  },
  {
   "cell_type": "code",
   "execution_count": 9,
   "id": "ecab9b55",
   "metadata": {},
   "outputs": [
    {
     "name": "stdout",
     "output_type": "stream",
     "text": [
      "Employees with Bonuses Greater Than 5000: 50\n"
     ]
    }
   ],
   "source": [
    "# Pandas Equivalent with Formatting\n",
    "employees_with_bonus_gt_5000 = (df['Bonus'] > 5000).sum()\n",
    "print(\"Employees with Bonuses Greater Than 5000: {:,}\".format(employees_with_bonus_gt_5000))"
   ]
  },
  {
   "cell_type": "markdown",
   "id": "4c9f8c09",
   "metadata": {},
   "source": [
    "### 8. **SUMIF**: Sum of Salaries for Employees with Bonuses Greater Than 5000\n",
    "\n",
    "**Excel Function**: `=SUMIF(H2:H101, \">5000\", E2:E101)`"
   ]
  },
  {
   "cell_type": "code",
   "execution_count": 10,
   "id": "c6c440f4",
   "metadata": {},
   "outputs": [
    {
     "name": "stdout",
     "output_type": "stream",
     "text": [
      "Sum of Salaries for Bonuses > 5000: $4,092,457.00\n"
     ]
    }
   ],
   "source": [
    "# Pandas Equivalent with Formatting\n",
    "sum_salaries_bonus_gt_5000 = df.loc[df['Bonus'] > 5000, 'Salary'].sum()\n",
    "print(\"Sum of Salaries for Bonuses > 5000: ${:,.2f}\".format(sum_salaries_bonus_gt_5000))"
   ]
  },
  {
   "cell_type": "markdown",
   "id": "3b725ebe",
   "metadata": {},
   "source": [
    "### 9. **IF**: Classify Employee Performance Based on Score\n",
    "\n",
    "**Excel Function**: `=IF(G2>4, \"Excellent\", \"Needs Improvement\")`"
   ]
  },
  {
   "cell_type": "code",
   "execution_count": 12,
   "id": "7cc6c637",
   "metadata": {},
   "outputs": [
    {
     "data": {
      "text/plain": [
       "               Name  Performance Score Performance Classification\n",
       "0      Norma Fisher                2.5          Needs Improvement\n",
       "1    Jorge Sullivan                2.7          Needs Improvement\n",
       "2   Elizabeth Woods                1.2          Needs Improvement\n",
       "3      Susan Wagner                2.5          Needs Improvement\n",
       "4  Peter Montgomery                1.1          Needs Improvement"
      ]
     },
     "execution_count": 12,
     "metadata": {},
     "output_type": "execute_result"
    }
   ],
   "source": [
    "# Pandas Equivalent\n",
    "df['Performance Classification'] = np.where(df['Performance Score'] > 4, \"Excellent\", \"Needs Improvement\")\n",
    "\n",
    "\n",
    "# Display the first few rows using tabulate\n",
    "table_data = df[['Name', 'Performance Score', 'Performance Classification']].head()\n",
    "table_data.head()"
   ]
  },
  {
   "cell_type": "markdown",
   "id": "1e8e0f8b",
   "metadata": {},
   "source": [
    "### 10. **VLOOKUP**: Find the Position of an Employee with a Specific ID\n",
    "\n",
    "**Excel Function**: `=VLOOKUP(1025, A2:J101, 4, FALSE)`"
   ]
  },
  {
   "cell_type": "code",
   "execution_count": 13,
   "id": "e838afdd",
   "metadata": {},
   "outputs": [
    {
     "name": "stdout",
     "output_type": "stream",
     "text": [
      "Position of Employee with ID 1025: Plant breeder/geneticist\n"
     ]
    }
   ],
   "source": [
    "# Pandas Equivalent\n",
    "employee_id = 1025\n",
    "employee_position = df.loc[df['Employee ID'] == employee_id, 'Position'].values\n",
    "if len(employee_position) > 0:\n",
    "    print(f\"Position of Employee with ID {employee_id}: {employee_position[0]}\")\n",
    "else:\n",
    "    print(f\"Employee with ID {employee_id} not found.\")"
   ]
  },
  {
   "cell_type": "markdown",
   "id": "bfed846b",
   "metadata": {},
   "source": [
    "## Conclusion\n",
    "\n",
    "Transitioning from Excel to pandas can greatly enhance your data analysis capabilities. Pandas offers efficient and scalable operations, especially for large datasets. By understanding the equivalents of common Excel functions in pandas and applying proper formatting, you can leverage Python's power to perform complex data manipulations with ease.\n",
    "\n",
    "---\n",
    "\n",
    "Feel free to use this notebook as a starting point for your data analysis tasks. The combination of pandas and Python provides a robust platform for handling and analyzing data, making it a valuable skill for any data professional."
   ]
  }
 ],
 "metadata": {
  "authors": [
   {
    "name": "Alexander Joel Molinar Sr"
   }
  ],
  "kernelspec": {
   "display_name": "Python 3",
   "language": "python",
   "name": "python3"
  },
  "language_info": {
   "codemirror_mode": {
    "name": "ipython",
    "version": 3
   },
   "file_extension": ".py",
   "mimetype": "text/x-python",
   "name": "python",
   "nbconvert_exporter": "python",
   "pygments_lexer": "ipython3",
   "version": "3.x"
  },
  "title": "From Excel to Pandas: 10 Essential Functions You Must Know"
 },
 "nbformat": 4,
 "nbformat_minor": 5
}
